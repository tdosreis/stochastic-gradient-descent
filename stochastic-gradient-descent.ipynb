{
 "cells": [
  {
   "cell_type": "markdown",
   "id": "fb40ee5e",
   "metadata": {},
   "source": [
    "## Stochastic Gradient Descent\n",
    "\n",
    "### Example implementation and usage\n",
    "\n",
    "#### Logistic Regression with SGD\n",
    "The sigmoid function is the main structure for the logistic regression. It is bounded by $(0,1)$ and is written as: $$\\sigma(x) = \\frac{1}{(1 + e^{x})}$$\n",
    "\n",
    "The cost function for the logistic regression is the log-loss or cross-entropy. It is given by: $$J(\\Theta) = - \\frac{1}{m} \\sum_{i=1}^{m}\\left(y^{(i)} \\cdot \\log \\hat{y}^{(i)} + (1 - y^{(i)})\\cdot\\log(1 - \\hat{y}^{(i)})\\right)$$\n",
    "\n",
    "To minimize the cost value at each iteration, one might use gradient descent, such as:\n",
    "\n",
    "$$\\Theta_{j} := \\Theta_{j} - \\alpha \\frac{\\partial}{\\partial \\Theta_{j}}J(\\Theta)$$\n",
    "The derivative term results in:\n",
    "\n",
    "$$\\frac{\\partial J(\\Theta)}{\\partial \\Theta_{j}} = ... = \\frac{1}{m}\\sum_{i=1}^{m}\\left(\\hat{y}^{(i)} - y^{(i)}\\right)x_{j}^{(i)}$$\n",
    "Which leads to the following algorithm, used to estimate and update the all the $\\Theta_{j}$ parameters (weights).\n",
    "\n",
    "$$\\Theta_{j} := \\Theta_{j} - \\frac{\\alpha}{m} \\sum_{i=1}^{m}\\left(\\hat{y}^{(i)} - y^{(i)}\\right)x_{j}^{(i)}$$\n",
    "Because the weights are updated at each step, to fix some of the weights one might need to indicate the indices referring to those weights and overwrite at each iteration the updated weights with the fixed values.\n",
    "\n",
    "The code shown below was designed only to illustrate the idea and does not represent an optimized script! Use carefully..."
   ]
  },
  {
   "cell_type": "markdown",
   "id": "ec80e87f",
   "metadata": {},
   "source": [
    "### Import Libs"
   ]
  },
  {
   "cell_type": "code",
   "execution_count": 1,
   "id": "21fd107d",
   "metadata": {},
   "outputs": [],
   "source": [
    "import pandas as pd\n",
    "import numpy as np\n",
    "import matplotlib.pyplot as plt\n",
    "import seaborn as sns\n",
    "from sklearn.datasets import load_breast_cancer, load_wine\n",
    "from sklearn.model_selection import KFold, train_test_split\n",
    "from sklearn import metrics\n",
    "%matplotlib inline"
   ]
  },
  {
   "cell_type": "markdown",
   "id": "5b8a758f",
   "metadata": {},
   "source": [
    "### Load data"
   ]
  },
  {
   "cell_type": "code",
   "execution_count": 2,
   "id": "4db98b55",
   "metadata": {},
   "outputs": [],
   "source": [
    "data = load_breast_cancer()"
   ]
  },
  {
   "cell_type": "markdown",
   "id": "3dc9f9b6",
   "metadata": {},
   "source": [
    "### Prepare data"
   ]
  },
  {
   "cell_type": "markdown",
   "id": "d5e5ed57",
   "metadata": {},
   "source": [
    "#### Features and target data"
   ]
  },
  {
   "cell_type": "code",
   "execution_count": 3,
   "id": "4c2210b4",
   "metadata": {},
   "outputs": [
    {
     "name": "stdout",
     "output_type": "stream",
     "text": [
      "(569, 30) (569,)\n"
     ]
    }
   ],
   "source": [
    "X = data['data']\n",
    "y = data['target']\n",
    "print(X.shape, y.shape)"
   ]
  },
  {
   "cell_type": "code",
   "execution_count": 4,
   "id": "410b70cd",
   "metadata": {},
   "outputs": [
    {
     "data": {
      "text/plain": [
       "array([0, 1])"
      ]
     },
     "execution_count": 4,
     "metadata": {},
     "output_type": "execute_result"
    }
   ],
   "source": [
    "np.unique(y)"
   ]
  },
  {
   "cell_type": "code",
   "execution_count": 5,
   "id": "cef000ec",
   "metadata": {},
   "outputs": [
    {
     "data": {
      "text/plain": [
       "0.6274165202108963"
      ]
     },
     "execution_count": 5,
     "metadata": {},
     "output_type": "execute_result"
    }
   ],
   "source": [
    "y.mean()"
   ]
  },
  {
   "cell_type": "code",
   "execution_count": 6,
   "id": "ca05ad58",
   "metadata": {},
   "outputs": [
    {
     "data": {
      "text/plain": [
       "array([0, 0, 0, 0, 0, 0, 0, 0, 0, 0, 0, 0, 0, 0, 0, 0, 0, 0, 0, 1, 1, 1,\n",
       "       0, 0, 0, 0, 0, 0, 0, 0, 0, 0, 0, 0, 0, 0, 0, 1, 0, 0, 0, 0, 0, 0,\n",
       "       0, 0, 1, 0, 1, 1, 1, 1, 1, 0, 0, 1, 0, 0, 1, 1, 1, 1, 0, 1, 0, 0,\n",
       "       1, 1, 1, 1, 0, 1, 0, 0, 1, 0, 1, 0, 0, 1, 1, 1, 0, 0, 1, 0, 0, 0,\n",
       "       1, 1, 1, 0, 1, 1, 0, 0, 1, 1, 1, 0, 0, 1, 1, 1, 1, 0, 1, 1, 0, 1,\n",
       "       1, 1, 1, 1, 1, 1, 1, 0, 0, 0, 1, 0, 0, 1, 1, 1, 0, 0, 1, 0, 1, 0,\n",
       "       0, 1, 0, 0, 1, 1, 0, 1, 1, 0, 1, 1, 1, 1, 0, 1, 1, 1, 1, 1, 1, 1,\n",
       "       1, 1, 0, 1, 1, 1, 1, 0, 0, 1, 0, 1, 1, 0, 0, 1, 1, 0, 0, 1, 1, 1,\n",
       "       1, 0, 1, 1, 0, 0, 0, 1, 0, 1, 0, 1, 1, 1, 0, 1, 1, 0, 0, 1, 0, 0,\n",
       "       0, 0, 1, 0, 0, 0, 1, 0, 1, 0, 1, 1, 0, 1, 0, 0, 0, 0, 1, 1, 0, 0,\n",
       "       1, 1, 1, 0, 1, 1, 1, 1, 1, 0, 0, 1, 1, 0, 1, 1, 0, 0, 1, 0, 1, 1,\n",
       "       1, 1, 0, 1, 1, 1, 1, 1, 0, 1, 0, 0, 0, 0, 0, 0, 0, 0, 0, 0, 0, 0,\n",
       "       0, 0, 1, 1, 1, 1, 1, 1, 0, 1, 0, 1, 1, 0, 1, 1, 0, 1, 0, 0, 1, 1,\n",
       "       1, 1, 1, 1, 1, 1, 1, 1, 1, 1, 1, 0, 1, 1, 0, 1, 0, 1, 1, 1, 1, 1,\n",
       "       1, 1, 1, 1, 1, 1, 1, 1, 1, 0, 1, 1, 1, 0, 1, 0, 1, 1, 1, 1, 0, 0,\n",
       "       0, 1, 1, 1, 1, 0, 1, 0, 1, 0, 1, 1, 1, 0, 1, 1, 1, 1, 1, 1, 1, 0,\n",
       "       0, 0, 1, 1, 1, 1, 1, 1, 1, 1, 1, 1, 1, 0, 0, 1, 0, 0, 0, 1, 0, 0,\n",
       "       1, 1, 1, 1, 1, 0, 1, 1, 1, 1, 1, 0, 1, 1, 1, 0, 1, 1, 0, 0, 1, 1,\n",
       "       1, 1, 1, 1, 0, 1, 1, 1, 1, 1, 1, 1, 0, 1, 1, 1, 1, 1, 0, 1, 1, 0,\n",
       "       1, 1, 1, 1, 1, 1, 1, 1, 1, 1, 1, 1, 0, 1, 0, 0, 1, 0, 1, 1, 1, 1,\n",
       "       1, 0, 1, 1, 0, 1, 0, 1, 1, 0, 1, 0, 1, 1, 1, 1, 1, 1, 1, 1, 0, 0,\n",
       "       1, 1, 1, 1, 1, 1, 0, 1, 1, 1, 1, 1, 1, 1, 1, 1, 1, 0, 1, 1, 1, 1,\n",
       "       1, 1, 1, 0, 1, 0, 1, 1, 0, 1, 1, 1, 1, 1, 0, 0, 1, 0, 1, 0, 1, 1,\n",
       "       1, 1, 1, 0, 1, 1, 0, 1, 0, 1, 0, 0, 1, 1, 1, 0, 1, 1, 1, 1, 1, 1,\n",
       "       1, 1, 1, 1, 1, 0, 1, 0, 0, 1, 1, 1, 1, 1, 1, 1, 1, 1, 1, 1, 1, 1,\n",
       "       1, 1, 1, 1, 1, 1, 1, 1, 1, 1, 1, 1, 0, 0, 0, 0, 0, 0, 1])"
      ]
     },
     "execution_count": 6,
     "metadata": {},
     "output_type": "execute_result"
    }
   ],
   "source": [
    "y"
   ]
  },
  {
   "cell_type": "markdown",
   "id": "db323ae5",
   "metadata": {},
   "source": [
    "#### Split train and test data\n",
    "The approach shown below is only for illustration purposes. It is a naive approach. If we want to have an optimal model development we should use something like early stopping or a KFold approach."
   ]
  },
  {
   "cell_type": "code",
   "execution_count": 7,
   "id": "b8908617",
   "metadata": {},
   "outputs": [],
   "source": [
    "from sklearn.model_selection import train_test_split\n",
    "from sklearn.preprocessing import StandardScaler\n",
    "\n",
    "X_train, X_test, y_train, y_test = train_test_split(X, y, test_size=0.3, random_state=101)\n",
    "\n",
    "scaler = StandardScaler()\n",
    "\n",
    "X_train_preproc = scaler.fit_transform(X_train)\n",
    "X_test_preproc = scaler.transform(X_test)"
   ]
  },
  {
   "cell_type": "code",
   "execution_count": 8,
   "id": "100e8fcc",
   "metadata": {},
   "outputs": [],
   "source": [
    "from sgd import LogisticRegressionModel"
   ]
  },
  {
   "cell_type": "markdown",
   "id": "81666cb3",
   "metadata": {},
   "source": [
    "#### Instantiate model"
   ]
  },
  {
   "cell_type": "code",
   "execution_count": 9,
   "id": "c1fa9755",
   "metadata": {},
   "outputs": [],
   "source": [
    "fixed_weights = [1.9, 0.5, 0.3] #the convergence of the method is sensitive to these values\n",
    "fixed_mask = [0, 2, 4]\n",
    "\n",
    "lr = LogisticRegressionModel(n_iter=1000,\n",
    "                             stochastic=True, \n",
    "                             fixed_weights=fixed_weights,\n",
    "                             fixed_mask=fixed_mask)"
   ]
  },
  {
   "cell_type": "code",
   "execution_count": 10,
   "id": "814b4eb7",
   "metadata": {},
   "outputs": [
    {
     "data": {
      "text/plain": [
       "[0, 2, 4]"
      ]
     },
     "execution_count": 10,
     "metadata": {},
     "output_type": "execute_result"
    }
   ],
   "source": [
    "lr.fixed_mask"
   ]
  },
  {
   "cell_type": "code",
   "execution_count": 11,
   "id": "b762fe7e",
   "metadata": {},
   "outputs": [
    {
     "data": {
      "text/plain": [
       "[1.9, 0.5, 0.3]"
      ]
     },
     "execution_count": 11,
     "metadata": {},
     "output_type": "execute_result"
    }
   ],
   "source": [
    "lr.fixed_weights"
   ]
  },
  {
   "cell_type": "markdown",
   "id": "e3f8ee73",
   "metadata": {},
   "source": [
    "#### Random initial guess for weight vector"
   ]
  },
  {
   "cell_type": "code",
   "execution_count": 12,
   "id": "0336813e",
   "metadata": {},
   "outputs": [
    {
     "data": {
      "text/plain": [
       "array([[-0.88334752],\n",
       "       [ 0.35386142],\n",
       "       [-0.43286501],\n",
       "       [ 1.24191181],\n",
       "       [-0.75311458],\n",
       "       [ 0.72291336],\n",
       "       [-0.39283839],\n",
       "       [-0.25091626],\n",
       "       [-0.95469161],\n",
       "       [-0.35829068],\n",
       "       [-0.35519778],\n",
       "       [-0.15002207],\n",
       "       [-1.42473878],\n",
       "       [-0.08856749],\n",
       "       [ 1.18197348],\n",
       "       [-0.08192609],\n",
       "       [-1.16430666],\n",
       "       [-0.97852849],\n",
       "       [ 0.1577629 ],\n",
       "       [-0.15483136],\n",
       "       [ 0.19955096],\n",
       "       [ 0.02020316],\n",
       "       [-0.70493956],\n",
       "       [-1.09541271],\n",
       "       [ 0.62792285],\n",
       "       [-1.62334004],\n",
       "       [-0.87414734],\n",
       "       [ 0.01265   ],\n",
       "       [ 0.80025548],\n",
       "       [ 1.54216877]])"
      ]
     },
     "execution_count": 12,
     "metadata": {},
     "output_type": "execute_result"
    }
   ],
   "source": [
    "theta0 = np.random.randn(X.shape[1])\n",
    "theta0 = theta0.reshape(-1,1)\n",
    "theta0"
   ]
  },
  {
   "cell_type": "markdown",
   "id": "699b6017",
   "metadata": {},
   "source": [
    "#### Train model"
   ]
  },
  {
   "cell_type": "code",
   "execution_count": 13,
   "id": "08148fb2",
   "metadata": {},
   "outputs": [],
   "source": [
    "lr.fit(X_train_preproc, y_train, theta0)"
   ]
  },
  {
   "cell_type": "markdown",
   "id": "5c3f0446",
   "metadata": {},
   "source": [
    "#### Verify coefficients"
   ]
  },
  {
   "cell_type": "code",
   "execution_count": 14,
   "id": "ce39e442",
   "metadata": {},
   "outputs": [
    {
     "name": "stdout",
     "output_type": "stream",
     "text": [
      "Iteration number 1:\n",
      "[[ 1.9         0.35246726  0.5         1.23966     0.3         0.72183646\n",
      "  -0.39406952 -0.2529494  -0.95512614 -0.35749573 -0.35616155 -0.14916918\n",
      "  -1.42546586 -0.08970313  1.18228062 -0.08111639 -1.16338925 -0.97823997\n",
      "   0.15832598 -0.1536787   0.19705236  0.01842995 -0.70731177 -1.09764754\n",
      "   0.62556771 -1.62455733 -0.87532759  0.01046122  0.79850289  1.54150592]]\n",
      "\n",
      "Iteration number 2:\n",
      "[[ 1.9         0.35108098  0.5         1.23741587  0.3         0.72076492\n",
      "  -0.39529352 -0.2549747  -0.95555761 -0.35670052 -0.35712155 -0.14831448\n",
      "  -1.42618987 -0.09083486  1.18258662 -0.08030379 -1.16247096 -0.97794888\n",
      "   0.1588861  -0.15252302  0.19456327  0.01667094 -0.70967478 -1.09987409\n",
      "   0.62322258 -1.62576614 -0.87649941  0.00828316  0.79675742  1.54085184]]\n",
      "\n",
      "Iteration number 101:\n",
      "[[ 1.9         0.24509313  0.5         1.07406731  0.3         0.65835646\n",
      "  -0.46685829 -0.39575873 -0.97879284 -0.2822368  -0.41966367 -0.07561621\n",
      "  -1.46745994 -0.16974091  1.19930451  0.01084948 -1.06142693 -0.93005501\n",
      "   0.20226518 -0.04078504  0.01215141 -0.11861993 -0.88049563 -1.26114069\n",
      "   0.43747699 -1.69851909 -0.94276733 -0.14293246  0.66189992  1.50470977]]\n",
      "\n",
      "Iteration number 501:\n",
      "[[ 1.9         0.01986801  0.5         0.77225142  0.3         0.61178159\n",
      "  -0.50674662 -0.6314788  -0.97387335 -0.08997257 -0.52424363  0.05822132\n",
      "  -1.50425646 -0.31919884  1.1609383   0.31753051 -0.67378097 -0.69882622\n",
      "   0.26358346  0.27112328 -0.32524812 -0.4070058  -1.18339892 -1.56022591\n",
      "   0.02033297 -1.75130401 -0.94293812 -0.36747082  0.4054455   1.48374649]]\n",
      "\n",
      "Iteration number 1000:\n",
      "[[ 1.9        -0.12714472  0.5         0.5867581   0.3         0.59213417\n",
      "  -0.49384751 -0.78207008 -0.95860535  0.02325677 -0.59848275  0.11483538\n",
      "  -1.52663424 -0.42516176  1.07430138  0.53392482 -0.31423088 -0.49759025\n",
      "   0.26425857  0.48797745 -0.53059857 -0.59683941 -1.36242911 -1.74780612\n",
      "  -0.27868732 -1.76347751 -0.87827144 -0.47988875  0.25040699  1.45609785]]\n",
      "\n"
     ]
    }
   ],
   "source": [
    "for i in [0, 1, 100, 500, 999]:\n",
    "    print(f'Iteration number {i + 1}:') \n",
    "    print(lr.coefs_[i])\n",
    "    print()"
   ]
  },
  {
   "cell_type": "markdown",
   "id": "21a11672",
   "metadata": {},
   "source": [
    "#### Optimum weights"
   ]
  },
  {
   "cell_type": "code",
   "execution_count": 15,
   "id": "9d3852e1",
   "metadata": {},
   "outputs": [
    {
     "data": {
      "text/plain": [
       "array([[ 1.9       ],\n",
       "       [-0.12714472],\n",
       "       [ 0.5       ],\n",
       "       [ 0.5867581 ],\n",
       "       [ 0.3       ],\n",
       "       [ 0.59213417],\n",
       "       [-0.49384751],\n",
       "       [-0.78207008],\n",
       "       [-0.95860535],\n",
       "       [ 0.02325677],\n",
       "       [-0.59848275],\n",
       "       [ 0.11483538],\n",
       "       [-1.52663424],\n",
       "       [-0.42516176],\n",
       "       [ 1.07430138],\n",
       "       [ 0.53392482],\n",
       "       [-0.31423088],\n",
       "       [-0.49759025],\n",
       "       [ 0.26425857],\n",
       "       [ 0.48797745],\n",
       "       [-0.53059857],\n",
       "       [-0.59683941],\n",
       "       [-1.36242911],\n",
       "       [-1.74780612],\n",
       "       [-0.27868732],\n",
       "       [-1.76347751],\n",
       "       [-0.87827144],\n",
       "       [-0.47988875],\n",
       "       [ 0.25040699],\n",
       "       [ 1.45609785]])"
      ]
     },
     "execution_count": 15,
     "metadata": {},
     "output_type": "execute_result"
    }
   ],
   "source": [
    "lr.coefs_opt_st"
   ]
  },
  {
   "cell_type": "markdown",
   "id": "ee70567f",
   "metadata": {},
   "source": [
    "#### Predict on test data\n",
    "The first 20 results are shown below.\n"
   ]
  },
  {
   "cell_type": "code",
   "execution_count": 16,
   "id": "d17fd924",
   "metadata": {},
   "outputs": [
    {
     "data": {
      "text/plain": [
       "array([[9.35181129e-01],\n",
       "       [9.58885205e-01],\n",
       "       [9.31398471e-01],\n",
       "       [2.23516181e-02],\n",
       "       [9.96245819e-01],\n",
       "       [9.95963328e-01],\n",
       "       [9.96683110e-01],\n",
       "       [2.61929346e-05],\n",
       "       [9.44409101e-01],\n",
       "       [9.92034882e-01],\n",
       "       [3.40437753e-02],\n",
       "       [5.77336551e-01],\n",
       "       [8.40307250e-01],\n",
       "       [9.88805215e-01],\n",
       "       [1.57966647e-03],\n",
       "       [9.97037505e-01],\n",
       "       [9.57070822e-01],\n",
       "       [9.88516134e-01],\n",
       "       [7.25567861e-07],\n",
       "       [3.37318303e-01]])"
      ]
     },
     "execution_count": 16,
     "metadata": {},
     "output_type": "execute_result"
    }
   ],
   "source": [
    "lr.predict(X_test_preproc)[:20]"
   ]
  },
  {
   "cell_type": "code",
   "execution_count": 17,
   "id": "f77c42d8",
   "metadata": {},
   "outputs": [
    {
     "name": "stderr",
     "output_type": "stream",
     "text": [
      "/Users/tiagodosreis/opt/anaconda3/lib/python3.8/site-packages/seaborn/distributions.py:2557: FutureWarning: `distplot` is a deprecated function and will be removed in a future version. Please adapt your code to use either `displot` (a figure-level function with similar flexibility) or `kdeplot` (an axes-level function for kernel density plots).\n",
      "  warnings.warn(msg, FutureWarning)\n",
      "/Users/tiagodosreis/opt/anaconda3/lib/python3.8/site-packages/seaborn/distributions.py:2056: FutureWarning: The `axis` variable is no longer used and will be removed. Instead, assign variables directly to `x` or `y`.\n",
      "  warnings.warn(msg, FutureWarning)\n",
      "/Users/tiagodosreis/opt/anaconda3/lib/python3.8/site-packages/seaborn/distributions.py:2557: FutureWarning: `distplot` is a deprecated function and will be removed in a future version. Please adapt your code to use either `displot` (a figure-level function with similar flexibility) or `kdeplot` (an axes-level function for kernel density plots).\n",
      "  warnings.warn(msg, FutureWarning)\n",
      "/Users/tiagodosreis/opt/anaconda3/lib/python3.8/site-packages/seaborn/distributions.py:2056: FutureWarning: The `axis` variable is no longer used and will be removed. Instead, assign variables directly to `x` or `y`.\n",
      "  warnings.warn(msg, FutureWarning)\n",
      "/Users/tiagodosreis/opt/anaconda3/lib/python3.8/site-packages/seaborn/distributions.py:2557: FutureWarning: `distplot` is a deprecated function and will be removed in a future version. Please adapt your code to use either `displot` (a figure-level function with similar flexibility) or `kdeplot` (an axes-level function for kernel density plots).\n",
      "  warnings.warn(msg, FutureWarning)\n",
      "/Users/tiagodosreis/opt/anaconda3/lib/python3.8/site-packages/seaborn/distributions.py:2056: FutureWarning: The `axis` variable is no longer used and will be removed. Instead, assign variables directly to `x` or `y`.\n",
      "  warnings.warn(msg, FutureWarning)\n",
      "/Users/tiagodosreis/opt/anaconda3/lib/python3.8/site-packages/seaborn/distributions.py:2557: FutureWarning: `distplot` is a deprecated function and will be removed in a future version. Please adapt your code to use either `displot` (a figure-level function with similar flexibility) or `kdeplot` (an axes-level function for kernel density plots).\n",
      "  warnings.warn(msg, FutureWarning)\n",
      "/Users/tiagodosreis/opt/anaconda3/lib/python3.8/site-packages/seaborn/distributions.py:2056: FutureWarning: The `axis` variable is no longer used and will be removed. Instead, assign variables directly to `x` or `y`.\n",
      "  warnings.warn(msg, FutureWarning)\n"
     ]
    },
    {
     "data": {
      "image/png": "[encoded data removed]",
      "text/plain": [
       "<Figure size 1152x288 with 3 Axes>"
      ]
     },
     "metadata": {
      "needs_background": "light"
     },
     "output_type": "display_data"
    }
   ],
   "source": [
    "fig, ax = plt.subplots(1, 3, figsize=(16,4))\n",
    "\n",
    "ax = ax.ravel()\n",
    "\n",
    "sns.distplot(lr.predict(X_test_preproc), hist=False, rug=True, ax=ax[0])\n",
    "sns.distplot(lr.predict(X_train_preproc), hist=False, rug=True, ax=ax[0])\n",
    "ax[0].legend(['Test', 'Train'], fontsize=14)\n",
    "\n",
    "sns.distplot(lr.predict(X_test_preproc), hist=False, rug=True, ax=ax[1])\n",
    "ax[1].legend(['Test'], fontsize=14)\n",
    "\n",
    "sns.distplot(lr.predict(X_train_preproc), hist=False, rug=True, ax=ax[2])\n",
    "ax[2].legend(['Train'], fontsize=14)\n",
    "\n",
    "for i in range(3):\n",
    "    ax[i].set_xlabel('Event probability', fontsize=12)"
   ]
  },
  {
   "cell_type": "markdown",
   "id": "12b5d6d3",
   "metadata": {},
   "source": [
    "#### Costs"
   ]
  },
  {
   "cell_type": "code",
   "execution_count": 18,
   "id": "57de0c9c",
   "metadata": {},
   "outputs": [
    {
     "name": "stdout",
     "output_type": "stream",
     "text": [
      "Iteration number 0: 78.69449119729622\n",
      "Iteration number 1: 78.19008418513205\n",
      "Iteration number 100: 51.5842176096746\n",
      "Iteration number 500: 22.69795137151691\n",
      "Iteration number 999: 11.846478068742647\n"
     ]
    }
   ],
   "source": [
    "for i in [0, 1, 100, 500, 999]:\n",
    "    print(f'Iteration number {i}: {lr.costs_[i]}')"
   ]
  },
  {
   "cell_type": "markdown",
   "id": "9acd2efb",
   "metadata": {},
   "source": [
    "#### Compare costs"
   ]
  },
  {
   "cell_type": "code",
   "execution_count": 19,
   "id": "f404f12d",
   "metadata": {},
   "outputs": [],
   "source": [
    "fixed_weights = [1.9, 0.5, 0.3] #the convergence of the method is sensitive to these values\n",
    "fixed_mask = [0, 2, 4]\n",
    "\n",
    "stochastic = [True, False]\n",
    "iterations = 1000\n",
    "all_costs = {}\n",
    "\n",
    "for i, s in enumerate(stochastic):\n",
    "\n",
    "    lr = LogisticRegressionModel(n_iter=iterations,\n",
    "                                 stochastic=s, \n",
    "                                 fixed_weights=fixed_weights,\n",
    "                                 fixed_mask=fixed_mask)\n",
    "\n",
    "    lr.fit(X_train_preproc, y_train, theta0)\n",
    "\n",
    "    all_costs[i] = lr.costs_"
   ]
  },
  {
   "cell_type": "code",
   "execution_count": 20,
   "id": "1a23eb54",
   "metadata": {},
   "outputs": [
    {
     "data": {
      "text/plain": [
       "Text(0.5, 0, 'Iterations')"
      ]
     },
     "execution_count": 20,
     "metadata": {},
     "output_type": "execute_result"
    },
    {
     "data": {
      "image/png": "[encoded data removed]",
      "text/plain": [
       "<Figure size 1152x432 with 2 Axes>"
      ]
     },
     "metadata": {
      "needs_background": "light"
     },
     "output_type": "display_data"
    }
   ],
   "source": [
    "fig, ax = plt.subplots(1, 2, figsize=(16,6))\n",
    "\n",
    "ax = ax.ravel()\n",
    "\n",
    "x_ = np.arange(0, iterations, 1)\n",
    "\n",
    "ax[0].plot(x_, all_costs[0].values())\n",
    "ax[1].plot(x_, all_costs[1].values())\n",
    "ax[0].set_xlabel(\"Iterations\")\n",
    "ax[1].set_xlabel(\"Iterations\")"
   ]
  },
  {
   "cell_type": "code",
   "execution_count": null,
   "id": "fcc6e3d9",
   "metadata": {},
   "outputs": [],
   "source": []
  }
 ],
 "metadata": {
  "kernelspec": {
   "display_name": "Python 3",
   "language": "python",
   "name": "python3"
  },
  "language_info": {
   "codemirror_mode": {
    "name": "ipython",
    "version": 3
   },
   "file_extension": ".py",
   "mimetype": "text/x-python",
   "name": "python",
   "nbconvert_exporter": "python",
   "pygments_lexer": "ipython3",
   "version": "3.8.8"
  }
 },
 "nbformat": 4,
 "nbformat_minor": 5
}
