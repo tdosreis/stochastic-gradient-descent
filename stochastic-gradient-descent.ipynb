{
 "cells": [
  {
   "cell_type": "markdown",
   "id": "af2392ac",
   "metadata": {},
   "source": [
    "## Stochastic Gradient Descent\n",
    "\n",
    "The following example was initially designed as an old classroom experiment, where one might need to fit a logistic regression with online learning where some of the weights are fixed.\n",
    "\n",
    "### Example implementation and usage\n",
    "\n",
    "#### Logistic Regression with SGD\n",
    "The sigmoid function is the main structure for the logistic regression. It is bounded by $(0,1)$ and is written as: $$\\sigma(x) = \\frac{1}{(1 + e^{x})}$$\n",
    "\n",
    "The cost function for the logistic regression is the log-loss or cross-entropy. It is given by: $$J(\\Theta) = - \\frac{1}{m} \\sum_{i=1}^{m}\\left(y^{(i)} \\cdot \\log \\hat{y}^{(i)} + (1 - y^{(i)})\\cdot\\log(1 - \\hat{y}^{(i)})\\right)$$\n",
    "\n",
    "To minimize the cost value at each iteration, one might use gradient descent, such as:\n",
    "\n",
    "$$\\Theta_{j} := \\Theta_{j} - \\alpha \\frac{\\partial}{\\partial \\Theta_{j}}J(\\Theta)$$\n",
    "The derivative term results in:\n",
    "\n",
    "$$\\frac{\\partial J(\\Theta)}{\\partial \\Theta_{j}} = ... = \\frac{1}{m}\\sum_{i=1}^{m}\\left(\\hat{y}^{(i)} - y^{(i)}\\right)x_{j}^{(i)}$$\n",
    "Which leads to the following algorithm, used to estimate and update the all the $\\Theta_{j}$ parameters (weights).\n",
    "\n",
    "$$\\Theta_{j} := \\Theta_{j} - \\frac{\\alpha}{m} \\sum_{i=1}^{m}\\left(\\hat{y}^{(i)} - y^{(i)}\\right)x_{j}^{(i)}$$\n",
    "Because the weights are updated at each step, to fix some of the weights one might need to indicate the indices referring to those weights and overwrite at each iteration the updated weights with the fixed values.\n",
    "\n",
    "The code shown below was designed only to illustrate the idea and does not represent an optimized script! Use carefully..."
   ]
  },
  {
   "cell_type": "markdown",
   "id": "953b401f",
   "metadata": {},
   "source": [
    "### Import Libs"
   ]
  },
  {
   "cell_type": "code",
   "execution_count": 1,
   "id": "32ea8121",
   "metadata": {},
   "outputs": [],
   "source": [
    "import pandas as pd\n",
    "import numpy as np\n",
    "import matplotlib.pyplot as plt\n",
    "import seaborn as sns\n",
    "from sklearn.datasets import load_breast_cancer, load_wine\n",
    "from sklearn.model_selection import KFold, train_test_split\n",
    "from sklearn import metrics\n",
    "%matplotlib inline"
   ]
  },
  {
   "cell_type": "markdown",
   "id": "12638f76",
   "metadata": {},
   "source": [
    "### Load data"
   ]
  },
  {
   "cell_type": "code",
   "execution_count": 2,
   "id": "7028e0e1",
   "metadata": {},
   "outputs": [],
   "source": [
    "data = load_breast_cancer()"
   ]
  },
  {
   "cell_type": "markdown",
   "id": "493321cb",
   "metadata": {},
   "source": [
    "### Prepare data"
   ]
  },
  {
   "cell_type": "markdown",
   "id": "82c93872",
   "metadata": {},
   "source": [
    "#### Features and target data"
   ]
  },
  {
   "cell_type": "code",
   "execution_count": 3,
   "id": "cf52ad3d",
   "metadata": {},
   "outputs": [
    {
     "name": "stdout",
     "output_type": "stream",
     "text": [
      "(569, 30) (569,)\n"
     ]
    }
   ],
   "source": [
    "X = data['data']\n",
    "y = data['target']\n",
    "print(X.shape, y.shape)"
   ]
  },
  {
   "cell_type": "code",
   "execution_count": 4,
   "id": "b6301faf",
   "metadata": {},
   "outputs": [
    {
     "data": {
      "text/plain": [
       "array([0, 1])"
      ]
     },
     "execution_count": 4,
     "metadata": {},
     "output_type": "execute_result"
    }
   ],
   "source": [
    "np.unique(y)"
   ]
  },
  {
   "cell_type": "code",
   "execution_count": 5,
   "id": "56f80219",
   "metadata": {},
   "outputs": [
    {
     "data": {
      "text/plain": [
       "0.6274165202108963"
      ]
     },
     "execution_count": 5,
     "metadata": {},
     "output_type": "execute_result"
    }
   ],
   "source": [
    "y.mean()"
   ]
  },
  {
   "cell_type": "code",
   "execution_count": 6,
   "id": "d50228ea",
   "metadata": {},
   "outputs": [
    {
     "data": {
      "text/plain": [
       "array([0, 0, 0, 0, 0, 0, 0, 0, 0, 0, 0, 0, 0, 0, 0, 0, 0, 0, 0, 1, 1, 1,\n",
       "       0, 0, 0, 0, 0, 0, 0, 0, 0, 0, 0, 0, 0, 0, 0, 1, 0, 0, 0, 0, 0, 0,\n",
       "       0, 0, 1, 0, 1, 1, 1, 1, 1, 0, 0, 1, 0, 0, 1, 1, 1, 1, 0, 1, 0, 0,\n",
       "       1, 1, 1, 1, 0, 1, 0, 0, 1, 0, 1, 0, 0, 1, 1, 1, 0, 0, 1, 0, 0, 0,\n",
       "       1, 1, 1, 0, 1, 1, 0, 0, 1, 1, 1, 0, 0, 1, 1, 1, 1, 0, 1, 1, 0, 1,\n",
       "       1, 1, 1, 1, 1, 1, 1, 0, 0, 0, 1, 0, 0, 1, 1, 1, 0, 0, 1, 0, 1, 0,\n",
       "       0, 1, 0, 0, 1, 1, 0, 1, 1, 0, 1, 1, 1, 1, 0, 1, 1, 1, 1, 1, 1, 1,\n",
       "       1, 1, 0, 1, 1, 1, 1, 0, 0, 1, 0, 1, 1, 0, 0, 1, 1, 0, 0, 1, 1, 1,\n",
       "       1, 0, 1, 1, 0, 0, 0, 1, 0, 1, 0, 1, 1, 1, 0, 1, 1, 0, 0, 1, 0, 0,\n",
       "       0, 0, 1, 0, 0, 0, 1, 0, 1, 0, 1, 1, 0, 1, 0, 0, 0, 0, 1, 1, 0, 0,\n",
       "       1, 1, 1, 0, 1, 1, 1, 1, 1, 0, 0, 1, 1, 0, 1, 1, 0, 0, 1, 0, 1, 1,\n",
       "       1, 1, 0, 1, 1, 1, 1, 1, 0, 1, 0, 0, 0, 0, 0, 0, 0, 0, 0, 0, 0, 0,\n",
       "       0, 0, 1, 1, 1, 1, 1, 1, 0, 1, 0, 1, 1, 0, 1, 1, 0, 1, 0, 0, 1, 1,\n",
       "       1, 1, 1, 1, 1, 1, 1, 1, 1, 1, 1, 0, 1, 1, 0, 1, 0, 1, 1, 1, 1, 1,\n",
       "       1, 1, 1, 1, 1, 1, 1, 1, 1, 0, 1, 1, 1, 0, 1, 0, 1, 1, 1, 1, 0, 0,\n",
       "       0, 1, 1, 1, 1, 0, 1, 0, 1, 0, 1, 1, 1, 0, 1, 1, 1, 1, 1, 1, 1, 0,\n",
       "       0, 0, 1, 1, 1, 1, 1, 1, 1, 1, 1, 1, 1, 0, 0, 1, 0, 0, 0, 1, 0, 0,\n",
       "       1, 1, 1, 1, 1, 0, 1, 1, 1, 1, 1, 0, 1, 1, 1, 0, 1, 1, 0, 0, 1, 1,\n",
       "       1, 1, 1, 1, 0, 1, 1, 1, 1, 1, 1, 1, 0, 1, 1, 1, 1, 1, 0, 1, 1, 0,\n",
       "       1, 1, 1, 1, 1, 1, 1, 1, 1, 1, 1, 1, 0, 1, 0, 0, 1, 0, 1, 1, 1, 1,\n",
       "       1, 0, 1, 1, 0, 1, 0, 1, 1, 0, 1, 0, 1, 1, 1, 1, 1, 1, 1, 1, 0, 0,\n",
       "       1, 1, 1, 1, 1, 1, 0, 1, 1, 1, 1, 1, 1, 1, 1, 1, 1, 0, 1, 1, 1, 1,\n",
       "       1, 1, 1, 0, 1, 0, 1, 1, 0, 1, 1, 1, 1, 1, 0, 0, 1, 0, 1, 0, 1, 1,\n",
       "       1, 1, 1, 0, 1, 1, 0, 1, 0, 1, 0, 0, 1, 1, 1, 0, 1, 1, 1, 1, 1, 1,\n",
       "       1, 1, 1, 1, 1, 0, 1, 0, 0, 1, 1, 1, 1, 1, 1, 1, 1, 1, 1, 1, 1, 1,\n",
       "       1, 1, 1, 1, 1, 1, 1, 1, 1, 1, 1, 1, 0, 0, 0, 0, 0, 0, 1])"
      ]
     },
     "execution_count": 6,
     "metadata": {},
     "output_type": "execute_result"
    }
   ],
   "source": [
    "y"
   ]
  },
  {
   "cell_type": "markdown",
   "id": "85df2ba2",
   "metadata": {},
   "source": [
    "#### Split train and test data\n",
    "The approach shown below is only for illustration purposes. It is a naive approach. If we want to have an optimal model development we should use something like early stopping or a KFold approach."
   ]
  },
  {
   "cell_type": "code",
   "execution_count": 7,
   "id": "66da58d9",
   "metadata": {},
   "outputs": [],
   "source": [
    "from sklearn.model_selection import train_test_split\n",
    "from sklearn.preprocessing import StandardScaler\n",
    "\n",
    "X_train, X_test, y_train, y_test = train_test_split(X, y, test_size=0.3, random_state=101)\n",
    "\n",
    "scaler = StandardScaler()\n",
    "\n",
    "X_train_preproc = scaler.fit_transform(X_train)\n",
    "X_test_preproc = scaler.transform(X_test)"
   ]
  },
  {
   "cell_type": "code",
   "execution_count": 8,
   "id": "64d80bf6",
   "metadata": {},
   "outputs": [],
   "source": [
    "from sgd import LogisticRegressionModel"
   ]
  },
  {
   "cell_type": "markdown",
   "id": "eac36e68",
   "metadata": {},
   "source": [
    "#### Instantiate model"
   ]
  },
  {
   "cell_type": "code",
   "execution_count": 9,
   "id": "9bbc7857",
   "metadata": {},
   "outputs": [],
   "source": [
    "fixed_weights = [1.9, 0.5, 0.3] #the convergence of the method is sensitive to these values\n",
    "fixed_mask = [0, 2, 4]\n",
    "\n",
    "lr = LogisticRegressionModel(n_iter=1000,\n",
    "                             stochastic=True, \n",
    "                             fixed_weights=fixed_weights,\n",
    "                             fixed_mask=fixed_mask)"
   ]
  },
  {
   "cell_type": "code",
   "execution_count": 10,
   "id": "6df0d87c",
   "metadata": {},
   "outputs": [
    {
     "data": {
      "text/plain": [
       "[0, 2, 4]"
      ]
     },
     "execution_count": 10,
     "metadata": {},
     "output_type": "execute_result"
    }
   ],
   "source": [
    "lr.fixed_mask"
   ]
  },
  {
   "cell_type": "code",
   "execution_count": 11,
   "id": "b788e3b1",
   "metadata": {},
   "outputs": [
    {
     "data": {
      "text/plain": [
       "[1.9, 0.5, 0.3]"
      ]
     },
     "execution_count": 11,
     "metadata": {},
     "output_type": "execute_result"
    }
   ],
   "source": [
    "lr.fixed_weights"
   ]
  },
  {
   "cell_type": "markdown",
   "id": "42274a9c",
   "metadata": {},
   "source": [
    "#### Random initial guess for weight vector"
   ]
  },
  {
   "cell_type": "code",
   "execution_count": 12,
   "id": "9e88dbaf",
   "metadata": {},
   "outputs": [
    {
     "data": {
      "text/plain": [
       "array([[-1.77069704],\n",
       "       [ 0.60895509],\n",
       "       [-1.0669371 ],\n",
       "       [ 0.32009376],\n",
       "       [-0.52796946],\n",
       "       [-0.05436571],\n",
       "       [-0.0199428 ],\n",
       "       [ 0.23930405],\n",
       "       [-0.39157136],\n",
       "       [ 0.55343606],\n",
       "       [-1.17299413],\n",
       "       [-1.08206358],\n",
       "       [ 0.18040335],\n",
       "       [-0.98245933],\n",
       "       [-0.90549919],\n",
       "       [ 2.42071169],\n",
       "       [-1.32265136],\n",
       "       [ 0.55355255],\n",
       "       [-1.26338906],\n",
       "       [-3.51254138],\n",
       "       [ 0.63967402],\n",
       "       [ 1.11443137],\n",
       "       [ 0.9294033 ],\n",
       "       [-0.26022614],\n",
       "       [-0.64897962],\n",
       "       [ 0.81901843],\n",
       "       [-0.37766061],\n",
       "       [ 0.63405534],\n",
       "       [-0.12803826],\n",
       "       [ 0.7668907 ]])"
      ]
     },
     "execution_count": 12,
     "metadata": {},
     "output_type": "execute_result"
    }
   ],
   "source": [
    "theta0 = np.random.randn(X.shape[1])\n",
    "theta0 = theta0.reshape(-1,1)\n",
    "theta0"
   ]
  },
  {
   "cell_type": "markdown",
   "id": "a8d3e7f9",
   "metadata": {},
   "source": [
    "#### Train model"
   ]
  },
  {
   "cell_type": "code",
   "execution_count": 13,
   "id": "13548ffb",
   "metadata": {},
   "outputs": [],
   "source": [
    "lr.fit(X_train_preproc, y_train, theta0)"
   ]
  },
  {
   "cell_type": "markdown",
   "id": "c973d34a",
   "metadata": {},
   "source": [
    "#### Verify coefficients"
   ]
  },
  {
   "cell_type": "code",
   "execution_count": 14,
   "id": "775eb912",
   "metadata": {},
   "outputs": [
    {
     "name": "stdout",
     "output_type": "stream",
     "text": [
      "Iteration number 1:\n",
      "[[ 1.9         0.60577726  0.5         0.31411069  0.3        -0.05857696\n",
      "  -0.02473857  0.23352259 -0.39302219  0.55503828 -1.17661087 -1.08039067\n",
      "   0.1767594  -0.98635675 -0.9027484   2.41911968 -1.32374706  0.55104399\n",
      "  -1.26166331 -3.51179605  0.6331584   1.11077806  0.92285771 -0.266185\n",
      "  -0.65147112  0.81415641 -0.38276342  0.62760757 -0.13098618  0.76500209]]\n",
      "\n",
      "Iteration number 2:\n",
      "[[ 1.9         0.60256938  0.5         0.30808756  0.3        -0.06281189\n",
      "  -0.02957234  0.22771196 -0.3944804   0.55666163 -1.18024307 -1.07874394\n",
      "   0.17309681 -0.9902648  -0.90000619  2.41752522 -1.32484643  0.54852166\n",
      "  -1.25992393 -3.51104085  0.62659696  1.10708912  0.91626767 -0.27218297\n",
      "  -0.6539759   0.80928342 -0.387883    0.6211307  -0.13392715  0.76312917]]\n",
      "\n",
      "Iteration number 101:\n",
      "[[ 1.9         0.33770569  0.5        -0.16996797  0.3        -0.35918085\n",
      "  -0.37394198 -0.206758   -0.4537019   0.74421461 -1.40190752 -0.8926677\n",
      "  -0.05163421 -1.24931854 -0.60244626  2.35054558 -1.35927218  0.4113008\n",
      "  -1.04972544 -3.38179711  0.10408495  0.79619743  0.39394718 -0.74064999\n",
      "  -0.82326999  0.43568551 -0.77262984  0.11668915 -0.3487022   0.64262357]]\n",
      "\n",
      "Iteration number 501:\n",
      "[[ 1.9        -0.05434307  0.5        -0.72026834  0.3        -0.53433696\n",
      "  -0.57562655 -0.60309836 -0.28884228  1.26956165 -1.42733903 -0.42913609\n",
      "  -0.08882151 -1.41715472  0.11384777  2.57376392 -1.07201185  0.53652901\n",
      "  -0.51085725 -2.78845738 -0.52787931  0.29864772 -0.22874681 -1.2615736\n",
      "  -0.96834497  0.03248393 -1.10622855 -0.46761399 -0.57640962  0.63991373]]\n",
      "\n",
      "Iteration number 1000:\n",
      "[[ 1.9        -0.22546348  0.5        -0.88652025  0.3        -0.58298917\n",
      "  -0.5594347  -0.70260704 -0.21729906  1.47026297 -1.37012474 -0.26426104\n",
      "  -0.04968842 -1.43900553  0.34488074  2.6850391  -0.78747084  0.68869077\n",
      "  -0.28653007 -2.45339051 -0.72690297  0.06137468 -0.4250697  -1.41784981\n",
      "  -1.0521857  -0.13096291 -1.160839   -0.64890571 -0.65848154  0.63030794]]\n",
      "\n"
     ]
    }
   ],
   "source": [
    "for i in [0, 1, 100, 500, 999]:\n",
    "    print(f'Iteration number {i + 1}:') \n",
    "    print(lr.coefs_[i])\n",
    "    print()"
   ]
  },
  {
   "cell_type": "markdown",
   "id": "0787810d",
   "metadata": {},
   "source": [
    "#### Optimum weights"
   ]
  },
  {
   "cell_type": "code",
   "execution_count": 15,
   "id": "8d75246a",
   "metadata": {},
   "outputs": [
    {
     "data": {
      "text/plain": [
       "array([[ 1.9       ],\n",
       "       [-0.22546348],\n",
       "       [ 0.5       ],\n",
       "       [-0.88652025],\n",
       "       [ 0.3       ],\n",
       "       [-0.58298917],\n",
       "       [-0.5594347 ],\n",
       "       [-0.70260704],\n",
       "       [-0.21729906],\n",
       "       [ 1.47026297],\n",
       "       [-1.37012474],\n",
       "       [-0.26426104],\n",
       "       [-0.04968842],\n",
       "       [-1.43900553],\n",
       "       [ 0.34488074],\n",
       "       [ 2.6850391 ],\n",
       "       [-0.78747084],\n",
       "       [ 0.68869077],\n",
       "       [-0.28653007],\n",
       "       [-2.45339051],\n",
       "       [-0.72690297],\n",
       "       [ 0.06137468],\n",
       "       [-0.4250697 ],\n",
       "       [-1.41784981],\n",
       "       [-1.0521857 ],\n",
       "       [-0.13096291],\n",
       "       [-1.160839  ],\n",
       "       [-0.64890571],\n",
       "       [-0.65848154],\n",
       "       [ 0.63030794]])"
      ]
     },
     "execution_count": 15,
     "metadata": {},
     "output_type": "execute_result"
    }
   ],
   "source": [
    "lr.coefs_opt_st"
   ]
  },
  {
   "cell_type": "markdown",
   "id": "1fed0fc8",
   "metadata": {},
   "source": [
    "#### Predict on test data\n",
    "The first 20 results are shown below.\n"
   ]
  },
  {
   "cell_type": "code",
   "execution_count": 16,
   "id": "32d922ff",
   "metadata": {},
   "outputs": [
    {
     "data": {
      "text/plain": [
       "array([[9.92248608e-01],\n",
       "       [8.96432263e-01],\n",
       "       [9.75579755e-01],\n",
       "       [1.06391858e-02],\n",
       "       [9.89343347e-01],\n",
       "       [9.93280990e-01],\n",
       "       [9.97504836e-01],\n",
       "       [7.94609058e-06],\n",
       "       [9.44305548e-01],\n",
       "       [9.91309540e-01],\n",
       "       [2.00736616e-03],\n",
       "       [9.67929899e-01],\n",
       "       [8.22882699e-01],\n",
       "       [9.47554567e-01],\n",
       "       [7.01965759e-03],\n",
       "       [8.39381519e-01],\n",
       "       [9.93262589e-01],\n",
       "       [9.68081624e-01],\n",
       "       [4.09066502e-07],\n",
       "       [3.06111344e-01]])"
      ]
     },
     "execution_count": 16,
     "metadata": {},
     "output_type": "execute_result"
    }
   ],
   "source": [
    "lr.predict(X_test_preproc)[:20]"
   ]
  },
  {
   "cell_type": "code",
   "execution_count": 17,
   "id": "8a7c3df4",
   "metadata": {},
   "outputs": [
    {
     "name": "stderr",
     "output_type": "stream",
     "text": [
      "/Users/tiagodosreis/opt/anaconda3/lib/python3.8/site-packages/seaborn/distributions.py:2557: FutureWarning: `distplot` is a deprecated function and will be removed in a future version. Please adapt your code to use either `displot` (a figure-level function with similar flexibility) or `kdeplot` (an axes-level function for kernel density plots).\n",
      "  warnings.warn(msg, FutureWarning)\n",
      "/Users/tiagodosreis/opt/anaconda3/lib/python3.8/site-packages/seaborn/distributions.py:2056: FutureWarning: The `axis` variable is no longer used and will be removed. Instead, assign variables directly to `x` or `y`.\n",
      "  warnings.warn(msg, FutureWarning)\n",
      "/Users/tiagodosreis/opt/anaconda3/lib/python3.8/site-packages/seaborn/distributions.py:2557: FutureWarning: `distplot` is a deprecated function and will be removed in a future version. Please adapt your code to use either `displot` (a figure-level function with similar flexibility) or `kdeplot` (an axes-level function for kernel density plots).\n",
      "  warnings.warn(msg, FutureWarning)\n",
      "/Users/tiagodosreis/opt/anaconda3/lib/python3.8/site-packages/seaborn/distributions.py:2056: FutureWarning: The `axis` variable is no longer used and will be removed. Instead, assign variables directly to `x` or `y`.\n",
      "  warnings.warn(msg, FutureWarning)\n",
      "/Users/tiagodosreis/opt/anaconda3/lib/python3.8/site-packages/seaborn/distributions.py:2557: FutureWarning: `distplot` is a deprecated function and will be removed in a future version. Please adapt your code to use either `displot` (a figure-level function with similar flexibility) or `kdeplot` (an axes-level function for kernel density plots).\n",
      "  warnings.warn(msg, FutureWarning)\n",
      "/Users/tiagodosreis/opt/anaconda3/lib/python3.8/site-packages/seaborn/distributions.py:2056: FutureWarning: The `axis` variable is no longer used and will be removed. Instead, assign variables directly to `x` or `y`.\n",
      "  warnings.warn(msg, FutureWarning)\n",
      "/Users/tiagodosreis/opt/anaconda3/lib/python3.8/site-packages/seaborn/distributions.py:2557: FutureWarning: `distplot` is a deprecated function and will be removed in a future version. Please adapt your code to use either `displot` (a figure-level function with similar flexibility) or `kdeplot` (an axes-level function for kernel density plots).\n",
      "  warnings.warn(msg, FutureWarning)\n",
      "/Users/tiagodosreis/opt/anaconda3/lib/python3.8/site-packages/seaborn/distributions.py:2056: FutureWarning: The `axis` variable is no longer used and will be removed. Instead, assign variables directly to `x` or `y`.\n",
      "  warnings.warn(msg, FutureWarning)\n"
     ]
    },
    {
     "data": {
      "image/png": "[encoded data removed]",
      "text/plain": [
       "<Figure size 1152x288 with 3 Axes>"
      ]
     },
     "metadata": {
      "needs_background": "light"
     },
     "output_type": "display_data"
    }
   ],
   "source": [
    "fig, ax = plt.subplots(1, 3, figsize=(16,4))\n",
    "\n",
    "ax = ax.ravel()\n",
    "\n",
    "sns.distplot(lr.predict(X_test_preproc), hist=False, rug=True, ax=ax[0])\n",
    "sns.distplot(lr.predict(X_train_preproc), hist=False, rug=True, ax=ax[0])\n",
    "ax[0].legend(['Test', 'Train'], fontsize=14)\n",
    "\n",
    "sns.distplot(lr.predict(X_test_preproc), hist=False, rug=True, ax=ax[1])\n",
    "ax[1].legend(['Test'], fontsize=14)\n",
    "\n",
    "sns.distplot(lr.predict(X_train_preproc), hist=False, rug=True, ax=ax[2])\n",
    "ax[2].legend(['Train'], fontsize=14)\n",
    "\n",
    "for i in range(3):\n",
    "    ax[i].set_xlabel('Event probability', fontsize=12)"
   ]
  },
  {
   "cell_type": "markdown",
   "id": "5d008235",
   "metadata": {},
   "source": [
    "#### Costs"
   ]
  },
  {
   "cell_type": "code",
   "execution_count": 18,
   "id": "a6e0526a",
   "metadata": {},
   "outputs": [
    {
     "name": "stdout",
     "output_type": "stream",
     "text": [
      "Iteration number 0: 361.2358325882075\n",
      "Iteration number 1: 358.4711510340568\n",
      "Iteration number 100: 140.06582428154525\n",
      "Iteration number 500: 25.674341449010793\n",
      "Iteration number 999: 13.362952628144631\n"
     ]
    }
   ],
   "source": [
    "for i in [0, 1, 100, 500, 999]:\n",
    "    print(f'Iteration number {i}: {lr.costs_[i]}')"
   ]
  },
  {
   "cell_type": "markdown",
   "id": "b0fe6c9d",
   "metadata": {},
   "source": [
    "#### Compare costs"
   ]
  },
  {
   "cell_type": "code",
   "execution_count": 19,
   "id": "5a69e2c9",
   "metadata": {},
   "outputs": [],
   "source": [
    "fixed_weights = [1.9, 0.5, 0.3] #the convergence of the method is sensitive to these values\n",
    "fixed_mask = [0, 2, 4]\n",
    "\n",
    "stochastic = [True, False]\n",
    "iterations = 1000\n",
    "all_costs = {}\n",
    "\n",
    "for i, s in enumerate(stochastic):\n",
    "\n",
    "    lr = LogisticRegressionModel(n_iter=iterations,\n",
    "                                 stochastic=s, \n",
    "                                 fixed_weights=fixed_weights,\n",
    "                                 fixed_mask=fixed_mask)\n",
    "\n",
    "    lr.fit(X_train_preproc, y_train, theta0)\n",
    "\n",
    "    all_costs[i] = lr.costs_"
   ]
  },
  {
   "cell_type": "code",
   "execution_count": 20,
   "id": "41a5ec28",
   "metadata": {},
   "outputs": [
    {
     "data": {
      "text/plain": [
       "Text(0.5, 0, 'Iterations')"
      ]
     },
     "execution_count": 20,
     "metadata": {},
     "output_type": "execute_result"
    },
    {
     "data": {
      "image/png": "[encoded data removed]",
      "text/plain": [
       "<Figure size 1152x432 with 2 Axes>"
      ]
     },
     "metadata": {
      "needs_background": "light"
     },
     "output_type": "display_data"
    }
   ],
   "source": [
    "fig, ax = plt.subplots(1, 2, figsize=(16,6))\n",
    "\n",
    "ax = ax.ravel()\n",
    "\n",
    "x_ = np.arange(0, iterations, 1)\n",
    "\n",
    "ax[0].plot(x_, all_costs[0].values())\n",
    "ax[1].plot(x_, all_costs[1].values())\n",
    "ax[0].set_xlabel(\"Iterations\")\n",
    "ax[1].set_xlabel(\"Iterations\")"
   ]
  },
  {
   "cell_type": "code",
   "execution_count": null,
   "id": "829dd745",
   "metadata": {},
   "outputs": [],
   "source": []
  }
 ],
 "metadata": {
  "kernelspec": {
   "display_name": "Python 3",
   "language": "python",
   "name": "python3"
  },
  "language_info": {
   "codemirror_mode": {
    "name": "ipython",
    "version": 3
   },
   "file_extension": ".py",
   "mimetype": "text/x-python",
   "name": "python",
   "nbconvert_exporter": "python",
   "pygments_lexer": "ipython3",
   "version": "3.8.8"
  }
 },
 "nbformat": 4,
 "nbformat_minor": 5
}
