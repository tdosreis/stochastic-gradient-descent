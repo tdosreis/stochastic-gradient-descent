{
 "cells": [
  {
   "cell_type": "markdown",
   "id": "af2392ac",
   "metadata": {},
   "source": [
    "## Stochastic Gradient Descent\n",
    "\n",
    "The following example was initially designed as an old classroom experiment, where one might need to fit a logistic regression with online learning where some of the weights are fixed.\n",
    "\n",
    "### Example implementation and usage\n",
    "\n",
    "#### Logistic Regression with SGD\n",
    "The sigmoid function is the main structure for the logistic regression. It is bounded by $(0,1)$ and is written as: $$\\sigma(x) = \\frac{1}{(1 + e^{x})}$$\n",
    "\n",
    "The cost function for the logistic regression is the log-loss or cross-entropy. It is given by: $$J(\\Theta) = - \\frac{1}{m} \\sum_{i=1}^{m}\\left(y^{(i)} \\cdot \\log \\hat{y}^{(i)} + (1 - y^{(i)})\\cdot\\log(1 - \\hat{y}^{(i)})\\right)$$\n",
    "\n",
    "To minimize the cost value at each iteration, one might use gradient descent, such as:\n",
    "\n",
    "$$\\Theta_{j} := \\Theta_{j} - \\alpha \\frac{\\partial}{\\partial \\Theta_{j}}J(\\Theta)$$\n",
    "The derivative term results in:\n",
    "\n",
    "$$\\frac{\\partial J(\\Theta)}{\\partial \\Theta_{j}} = ... = \\frac{1}{m}\\sum_{i=1}^{m}\\left(\\hat{y}^{(i)} - y^{(i)}\\right)x_{j}^{(i)}$$\n",
    "Which leads to the following algorithm, used to estimate and update the all the $\\Theta_{j}$ parameters (weights).\n",
    "\n",
    "$$\\Theta_{j} := \\Theta_{j} - \\frac{\\alpha}{m} \\sum_{i=1}^{m}\\left(\\hat{y}^{(i)} - y^{(i)}\\right)x_{j}^{(i)}$$\n",
    "Because the weights are updated at each step, to fix some of the weights one might need to indicate the indices referring to those weights and overwrite at each iteration the updated weights with the fixed values.\n",
    "\n",
    "The code shown below was designed only to illustrate the idea and does not represent an optimized script! Use carefully..."
   ]
  },
  {
   "cell_type": "markdown",
   "id": "953b401f",
   "metadata": {},
   "source": [
    "### Import Libs"
   ]
  },
  {
   "cell_type": "code",
   "execution_count": 1,
   "id": "32ea8121",
   "metadata": {},
   "outputs": [],
   "source": [
    "import pandas as pd\n",
    "import numpy as np\n",
    "import matplotlib.pyplot as plt\n",
    "import seaborn as sns\n",
    "from sklearn.datasets import load_breast_cancer, load_wine\n",
    "from sklearn.model_selection import KFold, train_test_split\n",
    "from sklearn import metrics\n",
    "%matplotlib inline"
   ]
  },
  {
   "cell_type": "code",
   "execution_count": 2,
   "id": "048f04e5",
   "metadata": {},
   "outputs": [],
   "source": [
    "import warnings\n",
    "warnings.filterwarnings(\"ignore\")"
   ]
  },
  {
   "cell_type": "markdown",
   "id": "12638f76",
   "metadata": {},
   "source": [
    "### Load data"
   ]
  },
  {
   "cell_type": "code",
   "execution_count": 3,
   "id": "7028e0e1",
   "metadata": {},
   "outputs": [],
   "source": [
    "data = load_breast_cancer()"
   ]
  },
  {
   "cell_type": "markdown",
   "id": "493321cb",
   "metadata": {},
   "source": [
    "### Prepare data"
   ]
  },
  {
   "cell_type": "markdown",
   "id": "82c93872",
   "metadata": {},
   "source": [
    "#### Features and target data"
   ]
  },
  {
   "cell_type": "code",
   "execution_count": 4,
   "id": "cf52ad3d",
   "metadata": {},
   "outputs": [
    {
     "name": "stdout",
     "output_type": "stream",
     "text": [
      "(569, 30) (569,)\n",
      "0.6274165202108963\n"
     ]
    }
   ],
   "source": [
    "X = data['data']\n",
    "y = data['target']\n",
    "print(X.shape, y.shape)\n",
    "print(y.mean())"
   ]
  },
  {
   "cell_type": "markdown",
   "id": "85df2ba2",
   "metadata": {},
   "source": [
    "#### Split train and test data\n",
    "The approach shown below is only for illustration purposes. It is a naive approach. If we want to have an optimal model development we should use something like early stopping or a KFold approach."
   ]
  },
  {
   "cell_type": "code",
   "execution_count": 5,
   "id": "66da58d9",
   "metadata": {},
   "outputs": [],
   "source": [
    "from sklearn.model_selection import train_test_split\n",
    "from sklearn.preprocessing import StandardScaler\n",
    "\n",
    "X_train, X_test, y_train, y_test = train_test_split(X, y, test_size=0.3, random_state=101)\n",
    "\n",
    "scaler = StandardScaler()\n",
    "\n",
    "X_train_preproc = scaler.fit_transform(X_train)\n",
    "X_test_preproc = scaler.transform(X_test)"
   ]
  },
  {
   "cell_type": "code",
   "execution_count": 6,
   "id": "64d80bf6",
   "metadata": {},
   "outputs": [],
   "source": [
    "from sgd import LogisticRegressionModel"
   ]
  },
  {
   "cell_type": "markdown",
   "id": "eac36e68",
   "metadata": {},
   "source": [
    "#### Instantiate model"
   ]
  },
  {
   "cell_type": "code",
   "execution_count": 7,
   "id": "9bbc7857",
   "metadata": {},
   "outputs": [],
   "source": [
    "fixed_weights = [1.9, 0.5, 0.3] # the convergence of the method is sensitive to these values\n",
    "fixed_mask = [0, 2, 4]\n",
    "\n",
    "lr = LogisticRegressionModel(n_iter=1000,\n",
    "                             stochastic=True, \n",
    "                             fixed_weights=fixed_weights,\n",
    "                             fixed_mask=fixed_mask)"
   ]
  },
  {
   "cell_type": "code",
   "execution_count": 8,
   "id": "6df0d87c",
   "metadata": {},
   "outputs": [
    {
     "data": {
      "text/plain": [
       "[0, 2, 4]"
      ]
     },
     "execution_count": 8,
     "metadata": {},
     "output_type": "execute_result"
    }
   ],
   "source": [
    "lr.fixed_mask"
   ]
  },
  {
   "cell_type": "code",
   "execution_count": 9,
   "id": "b788e3b1",
   "metadata": {},
   "outputs": [
    {
     "data": {
      "text/plain": [
       "[1.9, 0.5, 0.3]"
      ]
     },
     "execution_count": 9,
     "metadata": {},
     "output_type": "execute_result"
    }
   ],
   "source": [
    "lr.fixed_weights"
   ]
  },
  {
   "cell_type": "markdown",
   "id": "42274a9c",
   "metadata": {},
   "source": [
    "#### Random initial guess for weight vector"
   ]
  },
  {
   "cell_type": "code",
   "execution_count": 10,
   "id": "9e88dbaf",
   "metadata": {},
   "outputs": [
    {
     "data": {
      "text/plain": [
       "array([[-0.07230447],\n",
       "       [-0.36866222],\n",
       "       [ 0.57684659],\n",
       "       [ 0.14852872],\n",
       "       [-0.13530868],\n",
       "       [ 0.58381495],\n",
       "       [ 0.12563985],\n",
       "       [ 1.37204965],\n",
       "       [ 1.64106617],\n",
       "       [ 1.09900995],\n",
       "       [-0.32454951],\n",
       "       [ 0.0757528 ],\n",
       "       [-0.24485212],\n",
       "       [-0.8884385 ],\n",
       "       [-0.13048095],\n",
       "       [ 0.03245929],\n",
       "       [-1.50538826],\n",
       "       [-0.46100606],\n",
       "       [-1.27729236],\n",
       "       [-0.88972177]])"
      ]
     },
     "execution_count": 10,
     "metadata": {},
     "output_type": "execute_result"
    }
   ],
   "source": [
    "theta0 = np.random.randn(X.shape[1])\n",
    "theta0 = theta0.reshape(-1,1)\n",
    "theta0[:20]"
   ]
  },
  {
   "cell_type": "markdown",
   "id": "a8d3e7f9",
   "metadata": {},
   "source": [
    "#### Train model"
   ]
  },
  {
   "cell_type": "code",
   "execution_count": 11,
   "id": "13548ffb",
   "metadata": {},
   "outputs": [],
   "source": [
    "lr.fit(X_train_preproc, y_train, theta0)"
   ]
  },
  {
   "cell_type": "markdown",
   "id": "c973d34a",
   "metadata": {},
   "source": [
    "#### Verify coefficients"
   ]
  },
  {
   "cell_type": "code",
   "execution_count": 12,
   "id": "775eb912",
   "metadata": {},
   "outputs": [
    {
     "name": "stdout",
     "output_type": "stream",
     "text": [
      "Iteration number 1:\n",
      "[[ 1.9        -0.37004677  0.5         0.14293192  0.3         0.57927542\n",
      "   0.12085795  1.36598503  1.63802903  1.09917511 -0.32874134  0.07718186\n",
      "  -0.2488647  -0.89264121 -0.12955331  0.03140025 -1.506115   -0.46355421\n",
      "  -1.27653647 -0.88933061  0.08986173 -0.75803608  1.19070454  1.18722558\n",
      "   1.43101988 -1.78405096 -1.24363046 -0.42076556  0.31779216  0.52646904]]\n",
      "\n",
      "Iteration number 2:\n",
      "[[ 1.9        -0.37140208  0.5         0.13735902  0.3         0.57476664\n",
      "   0.11610891  1.35995234  1.63500673  1.09934651 -0.33290791  0.07861832\n",
      "  -0.25285056 -0.89682113 -0.12862727  0.03036613 -1.50682029 -0.4660732\n",
      "  -1.27576919 -0.88892818  0.08382686 -0.75989913  1.18469354  1.18158342\n",
      "   1.42690673 -1.78803188 -1.24784755 -0.42680603  0.31443683  0.52449277]]\n",
      "\n",
      "Iteration number 101:\n",
      "[[ 1.9        -0.41721853  0.5        -0.27350738  0.3         0.29227169\n",
      "  -0.18378884  0.93517243  1.42919555  1.14935883 -0.59391393  0.23624311\n",
      "  -0.49046106 -1.16883646 -0.03136859  0.04856589 -1.47707003 -0.57249589\n",
      "  -1.15605668 -0.79113667 -0.36067062 -0.86052794  0.748832    0.76831525\n",
      "   1.10575514 -2.02863554 -1.50363476 -0.84485031  0.08296998  0.41332191]]\n",
      "\n",
      "Iteration number 501:\n",
      "[[ 1.9        -0.35717741  0.5        -0.76196851  0.3         0.09088875\n",
      "  -0.3490128   0.46110258  1.13171253  1.32566878 -0.84466796  0.52643719\n",
      "  -0.66867049 -1.44848972  0.09735306  0.45728565 -1.01892107 -0.40438437\n",
      "  -0.91751648 -0.33943806 -0.91064901 -0.92946819  0.23505689  0.27837833\n",
      "   0.53014226 -2.14602525 -1.57776321 -1.28225715 -0.2550594   0.40117031]]\n",
      "\n",
      "Iteration number 1000:\n",
      "[[ 1.9        -0.32402402  0.5        -0.95164708  0.3         0.0395976\n",
      "  -0.32877226  0.26224255  0.9398698   1.38918388 -0.96668489  0.62789505\n",
      "  -0.73705799 -1.58223619  0.05130188  0.77175319 -0.58876589 -0.20843413\n",
      "  -0.82089719 -0.02178471 -1.13166932 -0.97295087  0.04248861  0.0743048\n",
      "   0.15911857 -2.11642731 -1.46588936 -1.41700391 -0.41614833  0.42104882]]\n",
      "\n"
     ]
    }
   ],
   "source": [
    "for i in [0, 1, 100, 500, 999]:\n",
    "    print(f'Iteration number {i + 1}:') \n",
    "    print(lr.coefs_[i])\n",
    "    print()"
   ]
  },
  {
   "cell_type": "markdown",
   "id": "0787810d",
   "metadata": {},
   "source": [
    "#### Optimum weights"
   ]
  },
  {
   "cell_type": "code",
   "execution_count": 13,
   "id": "8d75246a",
   "metadata": {},
   "outputs": [
    {
     "data": {
      "text/plain": [
       "array([[ 1.9       ],\n",
       "       [-0.32402402],\n",
       "       [ 0.5       ],\n",
       "       [-0.95164708],\n",
       "       [ 0.3       ],\n",
       "       [ 0.0395976 ],\n",
       "       [-0.32877226],\n",
       "       [ 0.26224255],\n",
       "       [ 0.9398698 ],\n",
       "       [ 1.38918388],\n",
       "       [-0.96668489],\n",
       "       [ 0.62789505],\n",
       "       [-0.73705799],\n",
       "       [-1.58223619],\n",
       "       [ 0.05130188],\n",
       "       [ 0.77175319],\n",
       "       [-0.58876589],\n",
       "       [-0.20843413],\n",
       "       [-0.82089719],\n",
       "       [-0.02178471]])"
      ]
     },
     "execution_count": 13,
     "metadata": {},
     "output_type": "execute_result"
    }
   ],
   "source": [
    "lr.coefs_opt_st[:20]"
   ]
  },
  {
   "cell_type": "markdown",
   "id": "1fed0fc8",
   "metadata": {},
   "source": [
    "#### Predict on test data\n",
    "The first 20 results are shown below.\n"
   ]
  },
  {
   "cell_type": "code",
   "execution_count": 14,
   "id": "32d922ff",
   "metadata": {},
   "outputs": [
    {
     "data": {
      "text/plain": [
       "array([[9.52850397e-01],\n",
       "       [9.59769838e-01],\n",
       "       [9.62667511e-01],\n",
       "       [8.32398012e-02],\n",
       "       [9.83803313e-01],\n",
       "       [9.97612881e-01],\n",
       "       [9.97161054e-01],\n",
       "       [2.48465910e-05],\n",
       "       [9.68947700e-01],\n",
       "       [9.89095890e-01],\n",
       "       [2.90280385e-01],\n",
       "       [9.50961968e-01],\n",
       "       [8.89242575e-01],\n",
       "       [9.94163385e-01],\n",
       "       [8.23174966e-03],\n",
       "       [9.97333902e-01],\n",
       "       [7.96007564e-01],\n",
       "       [8.90357545e-01],\n",
       "       [2.74798723e-05],\n",
       "       [9.62108079e-02]])"
      ]
     },
     "execution_count": 14,
     "metadata": {},
     "output_type": "execute_result"
    }
   ],
   "source": [
    "lr.predict(X_test_preproc)[:20]"
   ]
  },
  {
   "cell_type": "code",
   "execution_count": 15,
   "id": "8a7c3df4",
   "metadata": {},
   "outputs": [
    {
     "data": {
      "image/png": "[encoded data removed]",
      "text/plain": [
       "<Figure size 1152x288 with 3 Axes>"
      ]
     },
     "metadata": {
      "needs_background": "light"
     },
     "output_type": "display_data"
    }
   ],
   "source": [
    "fig, ax = plt.subplots(1, 3, figsize=(16,4))\n",
    "\n",
    "ax = ax.ravel()\n",
    "\n",
    "sns.distplot(lr.predict(X_test_preproc), hist=False, rug=True, ax=ax[0])\n",
    "sns.distplot(lr.predict(X_train_preproc), hist=False, rug=True, ax=ax[0])\n",
    "ax[0].legend(['Test', 'Train'], fontsize=14)\n",
    "\n",
    "sns.distplot(lr.predict(X_test_preproc), hist=False, rug=True, ax=ax[1])\n",
    "ax[1].legend(['Test'], fontsize=14)\n",
    "\n",
    "sns.distplot(lr.predict(X_train_preproc), hist=False, rug=True, ax=ax[2])\n",
    "ax[2].legend(['Train'], fontsize=14)\n",
    "\n",
    "for i in range(3):\n",
    "    ax[i].set_xlabel('Event probability', fontsize=12)"
   ]
  },
  {
   "cell_type": "markdown",
   "id": "5d008235",
   "metadata": {},
   "source": [
    "#### Costs"
   ]
  },
  {
   "cell_type": "code",
   "execution_count": 16,
   "id": "a6e0526a",
   "metadata": {},
   "outputs": [
    {
     "name": "stdout",
     "output_type": "stream",
     "text": [
      "Iteration number 0: 268.0120567507864\n",
      "Iteration number 1: 265.6382710167389\n",
      "Iteration number 100: 104.66235733823545\n",
      "Iteration number 500: 31.375318162402884\n",
      "Iteration number 999: 15.912869449816096\n"
     ]
    }
   ],
   "source": [
    "for i in [0, 1, 100, 500, 999]:\n",
    "    print(f'Iteration number {i}: {lr.costs_[i]}')"
   ]
  },
  {
   "cell_type": "markdown",
   "id": "b0fe6c9d",
   "metadata": {},
   "source": [
    "#### Compare costs"
   ]
  },
  {
   "cell_type": "code",
   "execution_count": 17,
   "id": "5a69e2c9",
   "metadata": {},
   "outputs": [],
   "source": [
    "fixed_weights = [1.9, 0.5, 0.3] #the convergence of the method is sensitive to these values\n",
    "fixed_mask = [0, 2, 4]\n",
    "\n",
    "stochastic = [True, False]\n",
    "iterations = 1000\n",
    "all_costs = {}\n",
    "\n",
    "for i, s in enumerate(stochastic):\n",
    "\n",
    "    lr = LogisticRegressionModel(n_iter=iterations,\n",
    "                                 stochastic=s, \n",
    "                                 fixed_weights=fixed_weights,\n",
    "                                 fixed_mask=fixed_mask)\n",
    "\n",
    "    lr.fit(X_train_preproc, y_train, theta0)\n",
    "\n",
    "    all_costs[i] = lr.costs_"
   ]
  },
  {
   "cell_type": "code",
   "execution_count": 18,
   "id": "41a5ec28",
   "metadata": {},
   "outputs": [
    {
     "data": {
      "text/plain": [
       "Text(0.5, 0, 'Iterations')"
      ]
     },
     "execution_count": 18,
     "metadata": {},
     "output_type": "execute_result"
    },
    {
     "data": {
      "image/png": "[encoded data removed]",
      "text/plain": [
       "<Figure size 1152x432 with 2 Axes>"
      ]
     },
     "metadata": {
      "needs_background": "light"
     },
     "output_type": "display_data"
    }
   ],
   "source": [
    "fig, ax = plt.subplots(1, 2, figsize=(16,6))\n",
    "\n",
    "ax = ax.ravel()\n",
    "\n",
    "x_ = np.arange(0, iterations, 1)\n",
    "\n",
    "ax[0].plot(x_, all_costs[0].values())\n",
    "ax[1].plot(x_, all_costs[1].values())\n",
    "ax[0].set_xlabel(\"Iterations\")\n",
    "ax[1].set_xlabel(\"Iterations\")"
   ]
  },
  {
   "cell_type": "code",
   "execution_count": null,
   "id": "829dd745",
   "metadata": {},
   "outputs": [],
   "source": []
  }
 ],
 "metadata": {
  "kernelspec": {
   "display_name": "Python 3",
   "language": "python",
   "name": "python3"
  },
  "language_info": {
   "codemirror_mode": {
    "name": "ipython",
    "version": 3
   },
   "file_extension": ".py",
   "mimetype": "text/x-python",
   "name": "python",
   "nbconvert_exporter": "python",
   "pygments_lexer": "ipython3",
   "version": "3.8.8"
  }
 },
 "nbformat": 4,
 "nbformat_minor": 5
}
