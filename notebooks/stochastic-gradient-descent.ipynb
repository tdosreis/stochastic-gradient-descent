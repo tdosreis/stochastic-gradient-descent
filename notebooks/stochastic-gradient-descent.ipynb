{
 "cells": [
  {
   "cell_type": "markdown",
   "id": "af2392ac",
   "metadata": {},
   "source": [
    "## Stochastic Gradient Descent\n",
    "\n",
    "The following example was initially designed as an old classroom experiment, where one might need to fit a logistic regression with online learning where some of the weights are fixed.\n",
    "\n",
    "### Example implementation and usage\n",
    "\n",
    "#### Logistic Regression with SGD\n",
    "The sigmoid function is the main structure for the logistic regression. It is bounded by $(0,1)$ and is written as: $$\\sigma(x) = \\frac{1}{(1 + e^{x})}$$\n",
    "\n",
    "The cost function for the logistic regression is the log-loss or cross-entropy. It is given by: $$J(\\Theta) = - \\frac{1}{m} \\sum_{i=1}^{m}\\left(y^{(i)} \\cdot \\log \\hat{y}^{(i)} + (1 - y^{(i)})\\cdot\\log(1 - \\hat{y}^{(i)})\\right)$$\n",
    "\n",
    "To minimize the cost value at each iteration, one might use gradient descent, such as:\n",
    "\n",
    "$$\\Theta_{j} := \\Theta_{j} - \\alpha \\frac{\\partial}{\\partial \\Theta_{j}}J(\\Theta)$$\n",
    "The derivative term results in:\n",
    "\n",
    "$$\\frac{\\partial J(\\Theta)}{\\partial \\Theta_{j}} = ... = \\frac{1}{m}\\sum_{i=1}^{m}\\left(\\hat{y}^{(i)} - y^{(i)}\\right)x_{j}^{(i)}$$\n",
    "Which leads to the following algorithm, used to estimate and update the all the $\\Theta_{j}$ parameters (weights).\n",
    "\n",
    "$$\\Theta_{j} := \\Theta_{j} - \\frac{\\alpha}{m} \\sum_{i=1}^{m}\\left(\\hat{y}^{(i)} - y^{(i)}\\right)x_{j}^{(i)}$$\n",
    "Because the weights are updated at each step, to fix some of the weights one might need to indicate the indices referring to those weights and overwrite at each iteration the updated weights with the fixed values.\n",
    "\n",
    "The code shown below was designed only to illustrate the idea and does not represent an optimized script! Use carefully..."
   ]
  },
  {
   "cell_type": "markdown",
   "id": "953b401f",
   "metadata": {},
   "source": [
    "### Import Libs"
   ]
  },
  {
   "cell_type": "code",
   "execution_count": 1,
   "id": "32ea8121",
   "metadata": {},
   "outputs": [],
   "source": [
    "import pandas as pd\n",
    "import numpy as np\n",
    "import matplotlib.pyplot as plt\n",
    "import seaborn as sns\n",
    "from sklearn.datasets import load_breast_cancer, load_wine\n",
    "from sklearn.model_selection import KFold, train_test_split\n",
    "from sklearn import metrics\n",
    "import sys\n",
    "%matplotlib inline"
   ]
  },
  {
   "cell_type": "code",
   "execution_count": 2,
   "id": "c65accb3",
   "metadata": {},
   "outputs": [],
   "source": [
    "sys.path.append('../src/')"
   ]
  },
  {
   "cell_type": "code",
   "execution_count": 3,
   "id": "048f04e5",
   "metadata": {},
   "outputs": [],
   "source": [
    "import warnings\n",
    "warnings.filterwarnings(\"ignore\")"
   ]
  },
  {
   "cell_type": "markdown",
   "id": "12638f76",
   "metadata": {},
   "source": [
    "### Load data"
   ]
  },
  {
   "cell_type": "code",
   "execution_count": 4,
   "id": "7028e0e1",
   "metadata": {},
   "outputs": [],
   "source": [
    "data = load_breast_cancer()"
   ]
  },
  {
   "cell_type": "markdown",
   "id": "493321cb",
   "metadata": {},
   "source": [
    "### Prepare data"
   ]
  },
  {
   "cell_type": "markdown",
   "id": "82c93872",
   "metadata": {},
   "source": [
    "#### Features and target data"
   ]
  },
  {
   "cell_type": "code",
   "execution_count": 5,
   "id": "cf52ad3d",
   "metadata": {},
   "outputs": [
    {
     "name": "stdout",
     "output_type": "stream",
     "text": [
      "(569, 30) (569,)\n",
      "0.6274165202108963\n"
     ]
    }
   ],
   "source": [
    "X = data['data']\n",
    "y = data['target']\n",
    "print(X.shape, y.shape)\n",
    "print(y.mean())"
   ]
  },
  {
   "cell_type": "markdown",
   "id": "85df2ba2",
   "metadata": {},
   "source": [
    "#### Split train and test data\n",
    "The approach shown below is only for illustration purposes. It is a naive approach. If we want to have an optimal model development we should use something like early stopping or a KFold approach."
   ]
  },
  {
   "cell_type": "code",
   "execution_count": 6,
   "id": "66da58d9",
   "metadata": {},
   "outputs": [],
   "source": [
    "from sklearn.model_selection import train_test_split\n",
    "from sklearn.preprocessing import StandardScaler\n",
    "\n",
    "X_train, X_test, y_train, y_test = train_test_split(X, y, test_size=0.3, random_state=101)\n",
    "\n",
    "scaler = StandardScaler()\n",
    "\n",
    "X_train_preproc = scaler.fit_transform(X_train)\n",
    "X_test_preproc = scaler.transform(X_test)"
   ]
  },
  {
   "cell_type": "code",
   "execution_count": 7,
   "id": "64d80bf6",
   "metadata": {},
   "outputs": [],
   "source": [
    "from sgd import LogisticRegressionModel"
   ]
  },
  {
   "cell_type": "markdown",
   "id": "eac36e68",
   "metadata": {},
   "source": [
    "#### Instantiate model"
   ]
  },
  {
   "cell_type": "code",
   "execution_count": 8,
   "id": "9bbc7857",
   "metadata": {},
   "outputs": [],
   "source": [
    "fixed_weights = [1.9, 0.5, 0.3] # the convergence of the method is sensitive to these values\n",
    "fixed_mask = [0, 2, 4]\n",
    "\n",
    "lr = LogisticRegressionModel(n_iter=1000,\n",
    "                             stochastic=True, \n",
    "                             fixed_weights=fixed_weights,\n",
    "                             fixed_mask=fixed_mask)"
   ]
  },
  {
   "cell_type": "code",
   "execution_count": 9,
   "id": "6df0d87c",
   "metadata": {},
   "outputs": [
    {
     "data": {
      "text/plain": [
       "[0, 2, 4]"
      ]
     },
     "execution_count": 9,
     "metadata": {},
     "output_type": "execute_result"
    }
   ],
   "source": [
    "lr.fixed_mask"
   ]
  },
  {
   "cell_type": "code",
   "execution_count": 10,
   "id": "b788e3b1",
   "metadata": {},
   "outputs": [
    {
     "data": {
      "text/plain": [
       "[1.9, 0.5, 0.3]"
      ]
     },
     "execution_count": 10,
     "metadata": {},
     "output_type": "execute_result"
    }
   ],
   "source": [
    "lr.fixed_weights"
   ]
  },
  {
   "cell_type": "markdown",
   "id": "42274a9c",
   "metadata": {},
   "source": [
    "#### Random initial guess for weight vector"
   ]
  },
  {
   "cell_type": "code",
   "execution_count": 11,
   "id": "9e88dbaf",
   "metadata": {},
   "outputs": [
    {
     "data": {
      "text/plain": [
       "array([[-0.52060995],\n",
       "       [-1.48566178],\n",
       "       [ 0.07011449],\n",
       "       [-0.80385594],\n",
       "       [-0.25737559],\n",
       "       [-0.85529178],\n",
       "       [ 0.1946661 ],\n",
       "       [ 1.56525346],\n",
       "       [ 0.09338337],\n",
       "       [ 0.29709252],\n",
       "       [ 1.1119557 ],\n",
       "       [-1.66933684],\n",
       "       [-0.68021464],\n",
       "       [ 0.91198605],\n",
       "       [ 0.85697487],\n",
       "       [ 1.02638471],\n",
       "       [-0.48375845],\n",
       "       [-1.67730942],\n",
       "       [-1.79814161],\n",
       "       [-0.46103264]])"
      ]
     },
     "execution_count": 11,
     "metadata": {},
     "output_type": "execute_result"
    }
   ],
   "source": [
    "theta0 = np.random.randn(X.shape[1])\n",
    "theta0 = theta0.reshape(-1,1)\n",
    "theta0[:20]"
   ]
  },
  {
   "cell_type": "markdown",
   "id": "a8d3e7f9",
   "metadata": {},
   "source": [
    "#### Train model"
   ]
  },
  {
   "cell_type": "code",
   "execution_count": 12,
   "id": "13548ffb",
   "metadata": {},
   "outputs": [],
   "source": [
    "lr.fit(X_train_preproc, y_train, theta0)"
   ]
  },
  {
   "cell_type": "markdown",
   "id": "c973d34a",
   "metadata": {},
   "source": [
    "#### Verify coefficients"
   ]
  },
  {
   "cell_type": "code",
   "execution_count": 13,
   "id": "775eb912",
   "metadata": {},
   "outputs": [
    {
     "name": "stdout",
     "output_type": "stream",
     "text": [
      "Iteration number 1:\n",
      "[[ 1.90000000e+00 -1.48668990e+00  5.00000000e-01 -8.10044904e-01\n",
      "   3.00000000e-01 -8.59070736e-01  1.90052034e-01  1.55937034e+00\n",
      "   9.16763732e-02  2.98757420e-01  1.10762515e+00 -1.66709623e+00\n",
      "  -6.84318283e-01  9.07523636e-01  8.58936939e-01  1.02553133e+00\n",
      "  -4.84466924e-01 -1.67950253e+00 -1.79680819e+00 -4.60214641e-01\n",
      "   3.32886634e+00 -1.09370198e+00 -1.60725309e+00  2.88200134e+00\n",
      "  -1.50208677e-01 -4.29160957e-01 -7.67011747e-01 -8.69694372e-02\n",
      "   1.11144160e+00 -1.02788644e-03]]\n",
      "\n",
      "Iteration number 2:\n",
      "[[ 1.90000000e+00 -1.48769645e+00  5.00000000e-01 -8.16222924e-01\n",
      "   3.00000000e-01 -8.62836398e-01  1.85452299e-01  1.55350217e+00\n",
      "   8.99805214e-02  3.00421066e-01  1.10330423e+00 -1.66484931e+00\n",
      "  -6.88411538e-01  9.03069109e-01  8.60893410e-01  1.02468775e+00\n",
      "  -4.85166537e-01 -1.68168221e+00 -1.79547261e+00 -4.59395128e-01\n",
      "   3.32224531e+00 -1.09506662e+00 -1.61378532e+00  2.87583079e+00\n",
      "  -1.52836998e-01 -4.32799676e-01 -7.71168238e-01 -9.28736772e-02\n",
      "   1.10880067e+00 -2.16350751e-03]]\n",
      "\n",
      "Iteration number 101:\n",
      "[[ 1.9        -1.51515539  0.5        -1.352013    0.3        -1.14802924\n",
      "  -0.17549613  1.07214419 -0.0309488   0.46909823  0.74215036 -1.41331166\n",
      "  -1.02068302  0.51906268  1.03925594  1.00124846 -0.49850885 -1.81252377\n",
      "  -1.64980707 -0.35735969  2.75161107 -1.15524231 -2.17126004  2.33881895\n",
      "  -0.36853576 -0.70717324 -1.08763114 -0.56889413  0.90164294 -0.07238121]]\n",
      "\n",
      "Iteration number 501:\n",
      "[[ 1.9        -1.23972087  0.5        -2.13364294  0.3        -1.33840928\n",
      "  -0.44781889  0.48970085 -0.11452771  0.89455648  0.30606729 -0.69063517\n",
      "  -1.36838089  0.01436868  1.335935    1.31681943 -0.13691715 -1.68168488\n",
      "  -1.30317671  0.08028186  1.90973251 -0.97207059 -2.96329619  1.54911713\n",
      "  -0.71728577 -0.8999886  -1.2871905  -1.12947228  0.60423727 -0.01129665]]\n",
      "\n",
      "Iteration number 1000:\n",
      "[[ 1.9        -1.02066764  0.5        -2.40692924  0.3        -1.31410396\n",
      "  -0.43003251  0.31795287 -0.14754262  1.09932743  0.15327057 -0.3647962\n",
      "  -1.45976825 -0.16583835  1.37354365  1.58683249  0.2391025  -1.44186627\n",
      "  -1.18739692  0.37663268  1.61252905 -0.81110265 -3.22708823  1.26942725\n",
      "  -0.91000568 -0.8735511  -1.20461379 -1.24249006  0.48120597  0.05985822]]\n",
      "\n"
     ]
    }
   ],
   "source": [
    "for i in [0, 1, 100, 500, 999]:\n",
    "    print(f'Iteration number {i + 1}:') \n",
    "    print(lr.coefs_[i])\n",
    "    print()"
   ]
  },
  {
   "cell_type": "markdown",
   "id": "0787810d",
   "metadata": {},
   "source": [
    "#### Optimum weights"
   ]
  },
  {
   "cell_type": "code",
   "execution_count": 14,
   "id": "8d75246a",
   "metadata": {},
   "outputs": [
    {
     "data": {
      "text/plain": [
       "array([[ 1.9       ],\n",
       "       [-1.02066764],\n",
       "       [ 0.5       ],\n",
       "       [-2.40692924],\n",
       "       [ 0.3       ],\n",
       "       [-1.31410396],\n",
       "       [-0.43003251],\n",
       "       [ 0.31795287],\n",
       "       [-0.14754262],\n",
       "       [ 1.09932743],\n",
       "       [ 0.15327057],\n",
       "       [-0.3647962 ],\n",
       "       [-1.45976825],\n",
       "       [-0.16583835],\n",
       "       [ 1.37354365],\n",
       "       [ 1.58683249],\n",
       "       [ 0.2391025 ],\n",
       "       [-1.44186627],\n",
       "       [-1.18739692],\n",
       "       [ 0.37663268]])"
      ]
     },
     "execution_count": 14,
     "metadata": {},
     "output_type": "execute_result"
    }
   ],
   "source": [
    "lr.coefs_opt_st[:20]"
   ]
  },
  {
   "cell_type": "markdown",
   "id": "1fed0fc8",
   "metadata": {},
   "source": [
    "#### Predict on test data\n",
    "The first 20 results are shown below.\n"
   ]
  },
  {
   "cell_type": "code",
   "execution_count": 15,
   "id": "32d922ff",
   "metadata": {},
   "outputs": [
    {
     "data": {
      "text/plain": [
       "array([[9.71502312e-01],\n",
       "       [9.91637381e-01],\n",
       "       [9.87521203e-01],\n",
       "       [1.57205198e-01],\n",
       "       [9.79722913e-01],\n",
       "       [9.98354985e-01],\n",
       "       [9.97596908e-01],\n",
       "       [1.10021739e-07],\n",
       "       [9.86442197e-01],\n",
       "       [9.89899614e-01],\n",
       "       [1.34773803e-02],\n",
       "       [9.48879418e-01],\n",
       "       [4.59316409e-01],\n",
       "       [9.98612054e-01],\n",
       "       [1.57231295e-02],\n",
       "       [9.85968920e-01],\n",
       "       [9.91368613e-01],\n",
       "       [9.24040800e-01],\n",
       "       [9.18668563e-05],\n",
       "       [4.21240505e-02]])"
      ]
     },
     "execution_count": 15,
     "metadata": {},
     "output_type": "execute_result"
    }
   ],
   "source": [
    "lr.predict(X_test_preproc)[:20]"
   ]
  },
  {
   "cell_type": "code",
   "execution_count": 16,
   "id": "8a7c3df4",
   "metadata": {},
   "outputs": [
    {
     "data": {
      "image/png": "[encoded data removed]",
      "text/plain": [
       "<Figure size 1152x288 with 3 Axes>"
      ]
     },
     "metadata": {
      "needs_background": "light"
     },
     "output_type": "display_data"
    }
   ],
   "source": [
    "fig, ax = plt.subplots(1, 3, figsize=(16,4))\n",
    "\n",
    "ax = ax.ravel()\n",
    "\n",
    "sns.distplot(lr.predict(X_test_preproc), hist=False, rug=True, ax=ax[0])\n",
    "sns.distplot(lr.predict(X_train_preproc), hist=False, rug=True, ax=ax[0])\n",
    "ax[0].legend(['Test', 'Train'], fontsize=14)\n",
    "\n",
    "sns.distplot(lr.predict(X_test_preproc), hist=False, rug=True, ax=ax[1])\n",
    "ax[1].legend(['Test'], fontsize=14)\n",
    "\n",
    "sns.distplot(lr.predict(X_train_preproc), hist=False, rug=True, ax=ax[2])\n",
    "ax[2].legend(['Train'], fontsize=14)\n",
    "\n",
    "for i in range(3):\n",
    "    ax[i].set_xlabel('Event probability', fontsize=12)"
   ]
  },
  {
   "cell_type": "markdown",
   "id": "5d008235",
   "metadata": {},
   "source": [
    "#### Costs"
   ]
  },
  {
   "cell_type": "code",
   "execution_count": 17,
   "id": "a6e0526a",
   "metadata": {},
   "outputs": [
    {
     "name": "stdout",
     "output_type": "stream",
     "text": [
      "Iteration number 0: inf\n",
      "Iteration number 1: inf\n",
      "Iteration number 100: 179.68593865677246\n",
      "Iteration number 500: 31.755878137172992\n",
      "Iteration number 999: 13.490944335628013\n"
     ]
    }
   ],
   "source": [
    "for i in [0, 1, 100, 500, 999]:\n",
    "    print(f'Iteration number {i}: {lr.costs_[i]}')"
   ]
  },
  {
   "cell_type": "markdown",
   "id": "b0fe6c9d",
   "metadata": {},
   "source": [
    "#### Compare costs"
   ]
  },
  {
   "cell_type": "code",
   "execution_count": 18,
   "id": "5a69e2c9",
   "metadata": {},
   "outputs": [],
   "source": [
    "fixed_weights = [1.9, 0.5, 0.3] #the convergence of the method is sensitive to these values\n",
    "fixed_mask = [0, 2, 4]\n",
    "\n",
    "stochastic = [True, False]\n",
    "iterations = 1000\n",
    "all_costs = {}\n",
    "\n",
    "for i, s in enumerate(stochastic):\n",
    "\n",
    "    lr = LogisticRegressionModel(n_iter=iterations,\n",
    "                                 stochastic=s, \n",
    "                                 fixed_weights=fixed_weights,\n",
    "                                 fixed_mask=fixed_mask)\n",
    "\n",
    "    lr.fit(X_train_preproc, y_train, theta0)\n",
    "\n",
    "    all_costs[i] = lr.costs_"
   ]
  },
  {
   "cell_type": "code",
   "execution_count": 19,
   "id": "41a5ec28",
   "metadata": {},
   "outputs": [
    {
     "data": {
      "text/plain": [
       "Text(0.5, 0, 'Iterations')"
      ]
     },
     "execution_count": 19,
     "metadata": {},
     "output_type": "execute_result"
    },
    {
     "data": {
      "image/png": "[encoded data removed]",
      "text/plain": [
       "<Figure size 1152x432 with 2 Axes>"
      ]
     },
     "metadata": {
      "needs_background": "light"
     },
     "output_type": "display_data"
    }
   ],
   "source": [
    "fig, ax = plt.subplots(1, 2, figsize=(16,6))\n",
    "\n",
    "ax = ax.ravel()\n",
    "\n",
    "x_ = np.arange(0, iterations, 1)\n",
    "\n",
    "ax[0].plot(x_, all_costs[0].values())\n",
    "ax[1].plot(x_, all_costs[1].values())\n",
    "ax[0].set_xlabel(\"Iterations\")\n",
    "ax[1].set_xlabel(\"Iterations\")"
   ]
  },
  {
   "cell_type": "code",
   "execution_count": null,
   "id": "829dd745",
   "metadata": {},
   "outputs": [],
   "source": []
  }
 ],
 "metadata": {
  "kernelspec": {
   "display_name": "Python 3",
   "language": "python",
   "name": "python3"
  },
  "language_info": {
   "codemirror_mode": {
    "name": "ipython",
    "version": 3
   },
   "file_extension": ".py",
   "mimetype": "text/x-python",
   "name": "python",
   "nbconvert_exporter": "python",
   "pygments_lexer": "ipython3",
   "version": "3.8.8"
  }
 },
 "nbformat": 4,
 "nbformat_minor": 5
}
